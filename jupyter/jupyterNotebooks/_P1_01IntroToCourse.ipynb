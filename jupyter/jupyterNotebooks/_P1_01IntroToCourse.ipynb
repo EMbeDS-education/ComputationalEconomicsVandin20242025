{
 "cells": [
  {
   "cell_type": "markdown",
   "id": "08cebd91-1794-4fe5-8258-b74bfca435e5",
   "metadata": {
    "tags": []
   },
   "source": [
    "<center><font size=\"+4\">Programming for Economics and Finance 2023/2024</font></center>\n",
    "<center><font size=\"+2\">Sant'Anna School of Advanced Studies, Pisa, Italy</font></center>\n",
    "<center><img src=\"https://github.com/EMbeDS-education/StatsAndComputing20212022/raw/main/PDA/jupyter/jupyterNotebooks/images/SSSA.png\" width=\"700\" alt=\"EMbeDS\"></center>\n",
    "\n",
    "<center><font size=\"+2\">Course responsible</font></center>\n",
    "<center><font size=\"+2\">Andrea Vandin a.vandin@santannapisa.it</font></center>\n",
    "\n",
    "---"
   ]
  },
  {
   "cell_type": "markdown",
   "id": "cecfefab-27d3-4df0-9e03-74c3578412c2",
   "metadata": {},
   "source": [
    "<center><font size=\"+4\">Part 0</font></center>\n",
    "<center><font size=\"+4\">Course introduction</font></center>\n",
    "\n",
    "---\n",
    "---"
   ]
  },
  {
   "cell_type": "code",
   "execution_count": null,
   "id": "044266fd-dc63-4b9e-9485-9f4efd8ea5e0",
   "metadata": {},
   "outputs": [],
   "source": []
  }
 ],
 "metadata": {
  "kernelspec": {
   "display_name": "Python 3 (ipykernel)",
   "language": "python",
   "name": "python3"
  },
  "language_info": {
   "codemirror_mode": {
    "name": "ipython",
    "version": 3
   },
   "file_extension": ".py",
   "mimetype": "text/x-python",
   "name": "python",
   "nbconvert_exporter": "python",
   "pygments_lexer": "ipython3",
   "version": "3.9.10"
  }
 },
 "nbformat": 4,
 "nbformat_minor": 5
}
